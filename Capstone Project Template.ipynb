{
 "cells": [
  {
   "cell_type": "markdown",
   "metadata": {
    "editable": true
   },
   "source": [
    "# Project Title\n",
    "### Data Engineering Capstone Project\n",
    "\n",
    "#### Project Summary\n",
    "--describe your project at a high level--\n",
    "\n",
    "The project follows the follow steps:\n",
    "* Step 1: Scope the Project and Gather Data\n",
    "* Step 2: Explore and Assess the Data\n",
    "* Step 3: Define the Data Model\n",
    "* Step 4: Run ETL to Model the Data\n",
    "* Step 5: Complete Project Write Up"
   ]
  },
  {
   "cell_type": "code",
   "execution_count": 1,
   "metadata": {
    "editable": true
   },
   "outputs": [],
   "source": [
    "# Do all imports and installs here\n",
    "import pandas as pd\n",
    "from pyspark.sql.functions import isnan, when, count, col, desc"
   ]
  },
  {
   "cell_type": "markdown",
   "metadata": {
    "editable": true
   },
   "source": [
    "### Step 1: Scope the Project and Gather Data\n",
    "\n",
    "#### Scope \n",
    "Explain what you plan to do in the project in more detail. What data do you use? What is your end solution look like? What tools did you use? etc>\n",
    "\n",
    "#### Describe and Gather Data \n",
    "Describe the data sets you're using. Where did it come from? What type of information is included? "
   ]
  },
  {
   "cell_type": "code",
   "execution_count": 2,
   "metadata": {
    "editable": true
   },
   "outputs": [],
   "source": [
    "# Read in the data here\n",
    "df = pd.read_csv(\"immigration_data_sample.csv\")\n",
    "df2 = pd.read_csv(\"us-cities-demographics.csv\", sep=';')"
   ]
  },
  {
   "cell_type": "code",
   "execution_count": 3,
   "metadata": {
    "editable": true
   },
   "outputs": [
    {
     "data": {
      "text/html": [
       "<div>\n",
       "<style scoped>\n",
       "    .dataframe tbody tr th:only-of-type {\n",
       "        vertical-align: middle;\n",
       "    }\n",
       "\n",
       "    .dataframe tbody tr th {\n",
       "        vertical-align: top;\n",
       "    }\n",
       "\n",
       "    .dataframe thead th {\n",
       "        text-align: right;\n",
       "    }\n",
       "</style>\n",
       "<table border=\"1\" class=\"dataframe\">\n",
       "  <thead>\n",
       "    <tr style=\"text-align: right;\">\n",
       "      <th></th>\n",
       "      <th>Unnamed: 0</th>\n",
       "      <th>cicid</th>\n",
       "      <th>i94yr</th>\n",
       "      <th>i94mon</th>\n",
       "      <th>i94cit</th>\n",
       "      <th>i94res</th>\n",
       "      <th>i94port</th>\n",
       "      <th>arrdate</th>\n",
       "      <th>i94mode</th>\n",
       "      <th>i94addr</th>\n",
       "      <th>...</th>\n",
       "      <th>entdepu</th>\n",
       "      <th>matflag</th>\n",
       "      <th>biryear</th>\n",
       "      <th>dtaddto</th>\n",
       "      <th>gender</th>\n",
       "      <th>insnum</th>\n",
       "      <th>airline</th>\n",
       "      <th>admnum</th>\n",
       "      <th>fltno</th>\n",
       "      <th>visatype</th>\n",
       "    </tr>\n",
       "  </thead>\n",
       "  <tbody>\n",
       "    <tr>\n",
       "      <th>0</th>\n",
       "      <td>2027561</td>\n",
       "      <td>4084316.0</td>\n",
       "      <td>2016.0</td>\n",
       "      <td>4.0</td>\n",
       "      <td>209.0</td>\n",
       "      <td>209.0</td>\n",
       "      <td>HHW</td>\n",
       "      <td>20566.0</td>\n",
       "      <td>1.0</td>\n",
       "      <td>HI</td>\n",
       "      <td>...</td>\n",
       "      <td>NaN</td>\n",
       "      <td>M</td>\n",
       "      <td>1955.0</td>\n",
       "      <td>07202016</td>\n",
       "      <td>F</td>\n",
       "      <td>NaN</td>\n",
       "      <td>JL</td>\n",
       "      <td>5.658267e+10</td>\n",
       "      <td>00782</td>\n",
       "      <td>WT</td>\n",
       "    </tr>\n",
       "    <tr>\n",
       "      <th>1</th>\n",
       "      <td>2171295</td>\n",
       "      <td>4422636.0</td>\n",
       "      <td>2016.0</td>\n",
       "      <td>4.0</td>\n",
       "      <td>582.0</td>\n",
       "      <td>582.0</td>\n",
       "      <td>MCA</td>\n",
       "      <td>20567.0</td>\n",
       "      <td>1.0</td>\n",
       "      <td>TX</td>\n",
       "      <td>...</td>\n",
       "      <td>NaN</td>\n",
       "      <td>M</td>\n",
       "      <td>1990.0</td>\n",
       "      <td>10222016</td>\n",
       "      <td>M</td>\n",
       "      <td>NaN</td>\n",
       "      <td>*GA</td>\n",
       "      <td>9.436200e+10</td>\n",
       "      <td>XBLNG</td>\n",
       "      <td>B2</td>\n",
       "    </tr>\n",
       "    <tr>\n",
       "      <th>2</th>\n",
       "      <td>589494</td>\n",
       "      <td>1195600.0</td>\n",
       "      <td>2016.0</td>\n",
       "      <td>4.0</td>\n",
       "      <td>148.0</td>\n",
       "      <td>112.0</td>\n",
       "      <td>OGG</td>\n",
       "      <td>20551.0</td>\n",
       "      <td>1.0</td>\n",
       "      <td>FL</td>\n",
       "      <td>...</td>\n",
       "      <td>NaN</td>\n",
       "      <td>M</td>\n",
       "      <td>1940.0</td>\n",
       "      <td>07052016</td>\n",
       "      <td>M</td>\n",
       "      <td>NaN</td>\n",
       "      <td>LH</td>\n",
       "      <td>5.578047e+10</td>\n",
       "      <td>00464</td>\n",
       "      <td>WT</td>\n",
       "    </tr>\n",
       "    <tr>\n",
       "      <th>3</th>\n",
       "      <td>2631158</td>\n",
       "      <td>5291768.0</td>\n",
       "      <td>2016.0</td>\n",
       "      <td>4.0</td>\n",
       "      <td>297.0</td>\n",
       "      <td>297.0</td>\n",
       "      <td>LOS</td>\n",
       "      <td>20572.0</td>\n",
       "      <td>1.0</td>\n",
       "      <td>CA</td>\n",
       "      <td>...</td>\n",
       "      <td>NaN</td>\n",
       "      <td>M</td>\n",
       "      <td>1991.0</td>\n",
       "      <td>10272016</td>\n",
       "      <td>M</td>\n",
       "      <td>NaN</td>\n",
       "      <td>QR</td>\n",
       "      <td>9.478970e+10</td>\n",
       "      <td>00739</td>\n",
       "      <td>B2</td>\n",
       "    </tr>\n",
       "    <tr>\n",
       "      <th>4</th>\n",
       "      <td>3032257</td>\n",
       "      <td>985523.0</td>\n",
       "      <td>2016.0</td>\n",
       "      <td>4.0</td>\n",
       "      <td>111.0</td>\n",
       "      <td>111.0</td>\n",
       "      <td>CHM</td>\n",
       "      <td>20550.0</td>\n",
       "      <td>3.0</td>\n",
       "      <td>NY</td>\n",
       "      <td>...</td>\n",
       "      <td>NaN</td>\n",
       "      <td>M</td>\n",
       "      <td>1997.0</td>\n",
       "      <td>07042016</td>\n",
       "      <td>F</td>\n",
       "      <td>NaN</td>\n",
       "      <td>NaN</td>\n",
       "      <td>4.232257e+10</td>\n",
       "      <td>LAND</td>\n",
       "      <td>WT</td>\n",
       "    </tr>\n",
       "  </tbody>\n",
       "</table>\n",
       "<p>5 rows × 29 columns</p>\n",
       "</div>"
      ],
      "text/plain": [
       "   Unnamed: 0      cicid   i94yr  i94mon  i94cit  i94res i94port  arrdate  \\\n",
       "0     2027561  4084316.0  2016.0     4.0   209.0   209.0     HHW  20566.0   \n",
       "1     2171295  4422636.0  2016.0     4.0   582.0   582.0     MCA  20567.0   \n",
       "2      589494  1195600.0  2016.0     4.0   148.0   112.0     OGG  20551.0   \n",
       "3     2631158  5291768.0  2016.0     4.0   297.0   297.0     LOS  20572.0   \n",
       "4     3032257   985523.0  2016.0     4.0   111.0   111.0     CHM  20550.0   \n",
       "\n",
       "   i94mode i94addr    ...     entdepu  matflag  biryear   dtaddto  gender  \\\n",
       "0      1.0      HI    ...         NaN        M   1955.0  07202016       F   \n",
       "1      1.0      TX    ...         NaN        M   1990.0  10222016       M   \n",
       "2      1.0      FL    ...         NaN        M   1940.0  07052016       M   \n",
       "3      1.0      CA    ...         NaN        M   1991.0  10272016       M   \n",
       "4      3.0      NY    ...         NaN        M   1997.0  07042016       F   \n",
       "\n",
       "  insnum airline        admnum  fltno  visatype  \n",
       "0    NaN      JL  5.658267e+10  00782        WT  \n",
       "1    NaN     *GA  9.436200e+10  XBLNG        B2  \n",
       "2    NaN      LH  5.578047e+10  00464        WT  \n",
       "3    NaN      QR  9.478970e+10  00739        B2  \n",
       "4    NaN     NaN  4.232257e+10   LAND        WT  \n",
       "\n",
       "[5 rows x 29 columns]"
      ]
     },
     "execution_count": 3,
     "metadata": {},
     "output_type": "execute_result"
    }
   ],
   "source": [
    "df.head()"
   ]
  },
  {
   "cell_type": "code",
   "execution_count": 4,
   "metadata": {
    "editable": true
   },
   "outputs": [
    {
     "data": {
      "text/html": [
       "<div>\n",
       "<style scoped>\n",
       "    .dataframe tbody tr th:only-of-type {\n",
       "        vertical-align: middle;\n",
       "    }\n",
       "\n",
       "    .dataframe tbody tr th {\n",
       "        vertical-align: top;\n",
       "    }\n",
       "\n",
       "    .dataframe thead th {\n",
       "        text-align: right;\n",
       "    }\n",
       "</style>\n",
       "<table border=\"1\" class=\"dataframe\">\n",
       "  <thead>\n",
       "    <tr style=\"text-align: right;\">\n",
       "      <th></th>\n",
       "      <th>City</th>\n",
       "      <th>State</th>\n",
       "      <th>Median Age</th>\n",
       "      <th>Male Population</th>\n",
       "      <th>Female Population</th>\n",
       "      <th>Total Population</th>\n",
       "      <th>Number of Veterans</th>\n",
       "      <th>Foreign-born</th>\n",
       "      <th>Average Household Size</th>\n",
       "      <th>State Code</th>\n",
       "      <th>Race</th>\n",
       "      <th>Count</th>\n",
       "    </tr>\n",
       "  </thead>\n",
       "  <tbody>\n",
       "    <tr>\n",
       "      <th>0</th>\n",
       "      <td>Silver Spring</td>\n",
       "      <td>Maryland</td>\n",
       "      <td>33.8</td>\n",
       "      <td>40601.0</td>\n",
       "      <td>41862.0</td>\n",
       "      <td>82463</td>\n",
       "      <td>1562.0</td>\n",
       "      <td>30908.0</td>\n",
       "      <td>2.60</td>\n",
       "      <td>MD</td>\n",
       "      <td>Hispanic or Latino</td>\n",
       "      <td>25924</td>\n",
       "    </tr>\n",
       "    <tr>\n",
       "      <th>1</th>\n",
       "      <td>Quincy</td>\n",
       "      <td>Massachusetts</td>\n",
       "      <td>41.0</td>\n",
       "      <td>44129.0</td>\n",
       "      <td>49500.0</td>\n",
       "      <td>93629</td>\n",
       "      <td>4147.0</td>\n",
       "      <td>32935.0</td>\n",
       "      <td>2.39</td>\n",
       "      <td>MA</td>\n",
       "      <td>White</td>\n",
       "      <td>58723</td>\n",
       "    </tr>\n",
       "    <tr>\n",
       "      <th>2</th>\n",
       "      <td>Hoover</td>\n",
       "      <td>Alabama</td>\n",
       "      <td>38.5</td>\n",
       "      <td>38040.0</td>\n",
       "      <td>46799.0</td>\n",
       "      <td>84839</td>\n",
       "      <td>4819.0</td>\n",
       "      <td>8229.0</td>\n",
       "      <td>2.58</td>\n",
       "      <td>AL</td>\n",
       "      <td>Asian</td>\n",
       "      <td>4759</td>\n",
       "    </tr>\n",
       "    <tr>\n",
       "      <th>3</th>\n",
       "      <td>Rancho Cucamonga</td>\n",
       "      <td>California</td>\n",
       "      <td>34.5</td>\n",
       "      <td>88127.0</td>\n",
       "      <td>87105.0</td>\n",
       "      <td>175232</td>\n",
       "      <td>5821.0</td>\n",
       "      <td>33878.0</td>\n",
       "      <td>3.18</td>\n",
       "      <td>CA</td>\n",
       "      <td>Black or African-American</td>\n",
       "      <td>24437</td>\n",
       "    </tr>\n",
       "    <tr>\n",
       "      <th>4</th>\n",
       "      <td>Newark</td>\n",
       "      <td>New Jersey</td>\n",
       "      <td>34.6</td>\n",
       "      <td>138040.0</td>\n",
       "      <td>143873.0</td>\n",
       "      <td>281913</td>\n",
       "      <td>5829.0</td>\n",
       "      <td>86253.0</td>\n",
       "      <td>2.73</td>\n",
       "      <td>NJ</td>\n",
       "      <td>White</td>\n",
       "      <td>76402</td>\n",
       "    </tr>\n",
       "  </tbody>\n",
       "</table>\n",
       "</div>"
      ],
      "text/plain": [
       "               City          State  Median Age  Male Population  \\\n",
       "0     Silver Spring       Maryland        33.8          40601.0   \n",
       "1            Quincy  Massachusetts        41.0          44129.0   \n",
       "2            Hoover        Alabama        38.5          38040.0   \n",
       "3  Rancho Cucamonga     California        34.5          88127.0   \n",
       "4            Newark     New Jersey        34.6         138040.0   \n",
       "\n",
       "   Female Population  Total Population  Number of Veterans  Foreign-born  \\\n",
       "0            41862.0             82463              1562.0       30908.0   \n",
       "1            49500.0             93629              4147.0       32935.0   \n",
       "2            46799.0             84839              4819.0        8229.0   \n",
       "3            87105.0            175232              5821.0       33878.0   \n",
       "4           143873.0            281913              5829.0       86253.0   \n",
       "\n",
       "   Average Household Size State Code                       Race  Count  \n",
       "0                    2.60         MD         Hispanic or Latino  25924  \n",
       "1                    2.39         MA                      White  58723  \n",
       "2                    2.58         AL                      Asian   4759  \n",
       "3                    3.18         CA  Black or African-American  24437  \n",
       "4                    2.73         NJ                      White  76402  "
      ]
     },
     "execution_count": 4,
     "metadata": {},
     "output_type": "execute_result"
    }
   ],
   "source": [
    "df2.head()"
   ]
  },
  {
   "cell_type": "markdown",
   "metadata": {
    "editable": true
   },
   "source": [
    "Judging by the analysis below (searching for duplicates, etc.) it appears the \"Foriegn-born\" column only makes sense when looking at City AND Foreign-born together. When the two tables were joined, duplicate values were made; these should be resolved when making fact and dimension tables."
   ]
  },
  {
   "cell_type": "code",
   "execution_count": 5,
   "metadata": {
    "editable": true
   },
   "outputs": [],
   "source": [
    "\t\n",
    "from pyspark.sql import SparkSession\n",
    "spark = SparkSession.builder.\\\n",
    "config(\"spark.jars.packages\",\"saurfang:spark-sas7bdat:2.0.0-s_2.11\")\\\n",
    ".enableHiveSupport().getOrCreate()\n",
    "df_spark =spark.read.format('com.github.saurfang.sas.spark').load('../../data/18-83510-I94-Data-2016/i94_apr16_sub.sas7bdat')\n"
   ]
  },
  {
   "cell_type": "code",
   "execution_count": 6,
   "metadata": {
    "editable": true
   },
   "outputs": [],
   "source": [
    "#write to parquet\n",
    "# df_spark.write.parquet(\"sas_data\")\n",
    "df_spark=spark.read.parquet(\"sas_data\")"
   ]
  },
  {
   "cell_type": "markdown",
   "metadata": {
    "editable": true
   },
   "source": [
    "### Step 2: Explore and Assess the Data\n",
    "#### Explore the Data \n",
    "Identify data quality issues, like missing values, duplicate data, etc."
   ]
  },
  {
   "cell_type": "code",
   "execution_count": 7,
   "metadata": {
    "editable": true
   },
   "outputs": [
    {
     "data": {
      "text/plain": [
       "3096313"
      ]
     },
     "execution_count": 7,
     "metadata": {},
     "output_type": "execute_result"
    }
   ],
   "source": [
    "# Count rows in Immigration table to ensure 1Million+\n",
    "df_spark.count()"
   ]
  },
  {
   "cell_type": "code",
   "execution_count": 9,
   "metadata": {
    "editable": true
   },
   "outputs": [
    {
     "data": {
      "text/plain": [
       "Row(cicid=5748517.0, i94yr=2016.0, i94mon=4.0, i94cit=245.0, i94res=438.0, i94port='LOS', arrdate=20574.0, i94mode=1.0, i94addr='CA', depdate=20582.0, i94bir=40.0, i94visa=1.0, count=1.0, dtadfile='20160430', visapost='SYD', occup=None, entdepa='G', entdepd='O', entdepu=None, matflag='M', biryear=1976.0, dtaddto='10292016', gender='F', insnum=None, airline='QF', admnum=94953870030.0, fltno='00011', visatype='B1')"
      ]
     },
     "execution_count": 9,
     "metadata": {},
     "output_type": "execute_result"
    }
   ],
   "source": [
    "df_spark.head()"
   ]
  },
  {
   "cell_type": "code",
   "execution_count": 10,
   "metadata": {
    "editable": true
   },
   "outputs": [
    {
     "name": "stdout",
     "output_type": "stream",
     "text": [
      "root\n",
      " |-- cicid: double (nullable = true)\n",
      " |-- i94yr: double (nullable = true)\n",
      " |-- i94mon: double (nullable = true)\n",
      " |-- i94cit: double (nullable = true)\n",
      " |-- i94res: double (nullable = true)\n",
      " |-- i94port: string (nullable = true)\n",
      " |-- arrdate: double (nullable = true)\n",
      " |-- i94mode: double (nullable = true)\n",
      " |-- i94addr: string (nullable = true)\n",
      " |-- depdate: double (nullable = true)\n",
      " |-- i94bir: double (nullable = true)\n",
      " |-- i94visa: double (nullable = true)\n",
      " |-- count: double (nullable = true)\n",
      " |-- dtadfile: string (nullable = true)\n",
      " |-- visapost: string (nullable = true)\n",
      " |-- occup: string (nullable = true)\n",
      " |-- entdepa: string (nullable = true)\n",
      " |-- entdepd: string (nullable = true)\n",
      " |-- entdepu: string (nullable = true)\n",
      " |-- matflag: string (nullable = true)\n",
      " |-- biryear: double (nullable = true)\n",
      " |-- dtaddto: string (nullable = true)\n",
      " |-- gender: string (nullable = true)\n",
      " |-- insnum: string (nullable = true)\n",
      " |-- airline: string (nullable = true)\n",
      " |-- admnum: double (nullable = true)\n",
      " |-- fltno: string (nullable = true)\n",
      " |-- visatype: string (nullable = true)\n",
      "\n"
     ]
    }
   ],
   "source": [
    "df_spark.printSchema()"
   ]
  },
  {
   "cell_type": "markdown",
   "metadata": {
    "editable": true
   },
   "source": [
    "Convert us-cities-demographics csv into spark dataframe"
   ]
  },
  {
   "cell_type": "code",
   "execution_count": 11,
   "metadata": {
    "editable": true
   },
   "outputs": [
    {
     "name": "stdout",
     "output_type": "stream",
     "text": [
      "root\n",
      " |-- City: string (nullable = true)\n",
      " |-- State: string (nullable = true)\n",
      " |-- Median Age: double (nullable = true)\n",
      " |-- Male Population: double (nullable = true)\n",
      " |-- Female Population: double (nullable = true)\n",
      " |-- Total Population: long (nullable = true)\n",
      " |-- Number of Veterans: double (nullable = true)\n",
      " |-- Foreign-born: double (nullable = true)\n",
      " |-- Average Household Size: double (nullable = true)\n",
      " |-- State Code: string (nullable = true)\n",
      " |-- Race: string (nullable = true)\n",
      " |-- Count: long (nullable = true)\n",
      "\n"
     ]
    }
   ],
   "source": [
    "df2_spark = spark.createDataFrame(df2)\n",
    "df2_spark.printSchema()"
   ]
  },
  {
   "cell_type": "markdown",
   "metadata": {
    "editable": true
   },
   "source": [
    "#### Cleaning Steps\n",
    "Document steps necessary to clean the data"
   ]
  },
  {
   "cell_type": "code",
   "execution_count": 12,
   "metadata": {
    "editable": true
   },
   "outputs": [],
   "source": [
    "# Select relevant columns from Dem data\n",
    "dem_data = df2_spark.select(\n",
    "    [\"City\", \"State\", \"Median Age\", \"Male Population\",\n",
    "     \"Female Population\", \"Foreign-born\", \"State Code\", \"Race\"]\n",
    ")"
   ]
  },
  {
   "cell_type": "code",
   "execution_count": 13,
   "metadata": {
    "editable": true
   },
   "outputs": [],
   "source": [
    "# Create temp views\n",
    "df_spark.createOrReplaceTempView(\"imm_data\")\n",
    "dem_data.createOrReplaceTempView(\"dem_data\")"
   ]
  },
  {
   "cell_type": "code",
   "execution_count": 14,
   "metadata": {
    "editable": true
   },
   "outputs": [
    {
     "data": {
      "text/plain": [
       "[Row(Entry Port='LOS', Travel Mode=1.0, Dest State='CA', Birth Year=1976, Gender='F', Visa Type='B1'),\n",
       " Row(Entry Port='LOS', Travel Mode=1.0, Dest State='NV', Birth Year=1984, Gender='F', Visa Type='B1'),\n",
       " Row(Entry Port='LOS', Travel Mode=1.0, Dest State='WA', Birth Year=1987, Gender='M', Visa Type='B1'),\n",
       " Row(Entry Port='LOS', Travel Mode=1.0, Dest State='WA', Birth Year=1987, Gender='F', Visa Type='B1'),\n",
       " Row(Entry Port='LOS', Travel Mode=1.0, Dest State='WA', Birth Year=1988, Gender='M', Visa Type='B1')]"
      ]
     },
     "execution_count": 14,
     "metadata": {},
     "output_type": "execute_result"
    }
   ],
   "source": [
    "# Select relevant columns from Immigration data\n",
    "imm_data = spark.sql(\"\"\"\n",
    "    SELECT i94port AS `Entry Port`,\n",
    "           i94mode AS `Travel Mode`,\n",
    "           i94addr AS `Dest State`,\n",
    "           CAST(biryear AS INT) AS `Birth Year`,\n",
    "           gender AS Gender,\n",
    "           visatype AS `Visa Type`\n",
    "    FROM imm_data\n",
    "\"\"\")\n",
    "\n",
    "imm_data.head(5)"
   ]
  },
  {
   "cell_type": "markdown",
   "metadata": {
    "editable": true
   },
   "source": [
    "### Imm_data Schema"
   ]
  },
  {
   "cell_type": "code",
   "execution_count": 15,
   "metadata": {
    "editable": true
   },
   "outputs": [
    {
     "name": "stdout",
     "output_type": "stream",
     "text": [
      "root\n",
      " |-- Entry Port: string (nullable = true)\n",
      " |-- Travel Mode: double (nullable = true)\n",
      " |-- Dest State: string (nullable = true)\n",
      " |-- Birth Year: integer (nullable = true)\n",
      " |-- Gender: string (nullable = true)\n",
      " |-- Visa Type: string (nullable = true)\n",
      "\n"
     ]
    }
   ],
   "source": [
    "# Print new schema\n",
    "imm_data.printSchema()"
   ]
  },
  {
   "cell_type": "markdown",
   "metadata": {
    "editable": true
   },
   "source": [
    "### Dem_data Schema"
   ]
  },
  {
   "cell_type": "code",
   "execution_count": 16,
   "metadata": {
    "editable": true
   },
   "outputs": [
    {
     "name": "stdout",
     "output_type": "stream",
     "text": [
      "root\n",
      " |-- City: string (nullable = true)\n",
      " |-- State: string (nullable = true)\n",
      " |-- Median Age: double (nullable = true)\n",
      " |-- Male Population: double (nullable = true)\n",
      " |-- Female Population: double (nullable = true)\n",
      " |-- Foreign-born: double (nullable = true)\n",
      " |-- State Code: string (nullable = true)\n",
      " |-- Race: string (nullable = true)\n",
      "\n"
     ]
    }
   ],
   "source": [
    "# Print new schema\n",
    "dem_data.printSchema()"
   ]
  },
  {
   "cell_type": "code",
   "execution_count": 17,
   "metadata": {
    "editable": true
   },
   "outputs": [],
   "source": [
    "# Replace TempView for imm_data\n",
    "imm_data.createOrReplaceTempView(\"imm_data\")"
   ]
  },
  {
   "cell_type": "code",
   "execution_count": 18,
   "metadata": {
    "editable": true
   },
   "outputs": [
    {
     "name": "stdout",
     "output_type": "stream",
     "text": [
      "+----------+\n",
      "|State Code|\n",
      "+----------+\n",
      "|        MD|\n",
      "|        MA|\n",
      "|        AL|\n",
      "|        CA|\n",
      "|        NJ|\n",
      "|        IL|\n",
      "|        AZ|\n",
      "|        CA|\n",
      "|        MO|\n",
      "|        NC|\n",
      "|        CA|\n",
      "|        CA|\n",
      "|        PA|\n",
      "|        KS|\n",
      "|        KS|\n",
      "|        FL|\n",
      "|        PA|\n",
      "|        TX|\n",
      "|        CA|\n",
      "|        CA|\n",
      "+----------+\n",
      "only showing top 20 rows\n",
      "\n"
     ]
    }
   ],
   "source": [
    "# Use the `State Code` format (back ticks ``) to select columns\n",
    "# that contain spaces in their name\n",
    "spark.sql(\"\"\"\n",
    "    SELECT `State Code`\n",
    "    FROM dem_data\n",
    "\"\"\").show()"
   ]
  },
  {
   "cell_type": "code",
   "execution_count": 19,
   "metadata": {
    "editable": true
   },
   "outputs": [
    {
     "name": "stdout",
     "output_type": "stream",
     "text": [
      "+----------+\n",
      "|Dest State|\n",
      "+----------+\n",
      "|        CA|\n",
      "|        NV|\n",
      "|        WA|\n",
      "|        WA|\n",
      "|        WA|\n",
      "+----------+\n",
      "\n"
     ]
    }
   ],
   "source": [
    "# Sanity check\n",
    "spark.sql(\"\"\"\n",
    "    SELECT `Dest State`\n",
    "    FROM imm_data\n",
    "    LIMIT 5\n",
    "\"\"\").show()"
   ]
  },
  {
   "cell_type": "code",
   "execution_count": 20,
   "metadata": {
    "editable": true
   },
   "outputs": [
    {
     "name": "stdout",
     "output_type": "stream",
     "text": [
      "+----------+------+---------+\n",
      "|Entry Port|Gender|Visa Type|\n",
      "+----------+------+---------+\n",
      "|       LOS|     F|       B1|\n",
      "|       LOS|     F|       B1|\n",
      "|       LOS|     M|       B1|\n",
      "|       LOS|     F|       B1|\n",
      "|       LOS|     M|       B1|\n",
      "+----------+------+---------+\n",
      "\n"
     ]
    }
   ],
   "source": [
    "# Get gender info and via type from imm_data\n",
    "spark.sql(\"\"\"\n",
    "    SELECT `Entry Port`, Gender, `Visa Type`\n",
    "    FROM imm_data\n",
    "    LIMIT 5\n",
    "\"\"\").show()"
   ]
  },
  {
   "cell_type": "code",
   "execution_count": 21,
   "metadata": {
    "editable": true
   },
   "outputs": [
    {
     "name": "stdout",
     "output_type": "stream",
     "text": [
      "+-----------+----------+----------+------+---------+\n",
      "|Travel Mode|Dest State|Birth Year|Gender|Visa Type|\n",
      "+-----------+----------+----------+------+---------+\n",
      "|        1.0|        TR|      1959|  null|       B2|\n",
      "|        1.0|        FL|      1975|     M|       B2|\n",
      "|        1.0|        TX|      1969|     M|       B2|\n",
      "|        1.0|        HI|      1936|     M|       WT|\n",
      "|        1.0|      null|      1988|     F|       WT|\n",
      "|        1.0|        IL|      1982|     M|       WB|\n",
      "|        1.0|        HI|      1934|     F|       WT|\n",
      "|        1.0|        HI|      2004|     F|       WT|\n",
      "|        1.0|        CA|      1974|     M|       WT|\n",
      "|        1.0|        CA|      1961|     M|       B1|\n",
      "|        1.0|        TX|      1971|     M|       B2|\n",
      "|        1.0|        CA|      1986|     F|       B2|\n",
      "|        1.0|        NC|      1961|     F|       B2|\n",
      "|        1.0|        AK|      1951|     F|       B2|\n",
      "|        1.0|        MA|      1937|     F|       B2|\n",
      "|        1.0|        MD|      1969|     F|       B2|\n",
      "|        1.0|        AZ|      1987|     M|       B2|\n",
      "|        1.0|        CA|      1956|     F|       B1|\n",
      "|        1.0|        OK|      1988|     M|       B2|\n",
      "|        1.0|        WA|      1957|     M|       B2|\n",
      "+-----------+----------+----------+------+---------+\n",
      "only showing top 20 rows\n",
      "\n"
     ]
    }
   ],
   "source": [
    "# SANITY CHECK imm_data\n",
    "spark.sql(\"\"\"\n",
    "    SELECT DISTINCT `Travel Mode`, `Dest State`, `Birth Year`, Gender, `Visa Type`\n",
    "    FROM imm_data\n",
    "\"\"\").show()"
   ]
  },
  {
   "cell_type": "code",
   "execution_count": 22,
   "metadata": {
    "editable": true
   },
   "outputs": [
    {
     "name": "stdout",
     "output_type": "stream",
     "text": [
      "+-------------------+--------------+----------+------------+--------------------+\n",
      "|               City|         State|State Code|Foreign-born|                Race|\n",
      "+-------------------+--------------+----------+------------+--------------------+\n",
      "|         Wilmington|North Carolina|        NC|      7401.0|               Asian|\n",
      "|          Las Vegas|        Nevada|        NV|    127609.0|American Indian a...|\n",
      "|          Riverside|    California|        CA|     69584.0|               Asian|\n",
      "|   Town 'n' Country|       Florida|        FL|     22135.0|               Asian|\n",
      "|             Perris|    California|        CA|     23277.0|               White|\n",
      "|            Houston|         Texas|        TX|    696210.0|Black or African-...|\n",
      "|             Tucson|       Arizona|        AZ|     82220.0|  Hispanic or Latino|\n",
      "|        Centreville|      Virginia|        VA|     27797.0|               White|\n",
      "|          Elk Grove|    California|        CA|     38693.0|               Asian|\n",
      "|          San Ramon|    California|        CA|     29691.0|               White|\n",
      "|    West Palm Beach|       Florida|        FL|     30675.0|               Asian|\n",
      "|             Laredo|         Texas|        TX|     68427.0|  Hispanic or Latino|\n",
      "|             Denver|      Colorado|        CO|    113222.0|Black or African-...|\n",
      "|           Lakeland|       Florida|        FL|     11592.0|               Asian|\n",
      "|             Tacoma|    Washington|        WA|     31863.0|American Indian a...|\n",
      "|             Renton|    Washington|        WA|     28962.0|  Hispanic or Latino|\n",
      "|     San Tan Valley|       Arizona|        AZ|      5757.0|               White|\n",
      "|South San Francisco|    California|        CA|     27528.0|               White|\n",
      "|          Worcester| Massachusetts|        MA|     36907.0|American Indian a...|\n",
      "|          Nashville|     Tennessee|        TN|     88193.0|Black or African-...|\n",
      "+-------------------+--------------+----------+------------+--------------------+\n",
      "only showing top 20 rows\n",
      "\n"
     ]
    }
   ],
   "source": [
    "# SANITY CHECK dem_data\n",
    "spark.sql(\"\"\"\n",
    "    SELECT DISTINCT City, State, `State Code`, `Foreign-born`, Race\n",
    "    FROM dem_data\n",
    "\"\"\").show()"
   ]
  },
  {
   "cell_type": "code",
   "execution_count": 23,
   "metadata": {
    "editable": true
   },
   "outputs": [
    {
     "name": "stdout",
     "output_type": "stream",
     "text": [
      "root\n",
      " |-- Entry Port: string (nullable = true)\n",
      " |-- Travel Mode: double (nullable = true)\n",
      " |-- Dest State: string (nullable = true)\n",
      " |-- Birth Year: integer (nullable = true)\n",
      " |-- Gender: string (nullable = true)\n",
      " |-- Visa Type: string (nullable = true)\n",
      "\n"
     ]
    }
   ],
   "source": [
    "# Check for nulls in imm_data\n",
    "imm_data.printSchema()"
   ]
  },
  {
   "cell_type": "code",
   "execution_count": 24,
   "metadata": {
    "editable": true
   },
   "outputs": [
    {
     "name": "stdout",
     "output_type": "stream",
     "text": [
      "+----------+-----------+----------+----------+------+---------+\n",
      "|Entry Port|Travel Mode|Dest State|Birth Year|Gender|Visa Type|\n",
      "+----------+-----------+----------+----------+------+---------+\n",
      "+----------+-----------+----------+----------+------+---------+\n",
      "\n"
     ]
    }
   ],
   "source": [
    "imm_data.filter(imm_data[\"Birth Year\"]==\"NaN\").show()"
   ]
  },
  {
   "cell_type": "code",
   "execution_count": 25,
   "metadata": {
    "editable": true
   },
   "outputs": [
    {
     "name": "stdout",
     "output_type": "stream",
     "text": [
      "root\n",
      " |-- City: string (nullable = true)\n",
      " |-- State: string (nullable = true)\n",
      " |-- Median Age: double (nullable = true)\n",
      " |-- Male Population: double (nullable = true)\n",
      " |-- Female Population: double (nullable = true)\n",
      " |-- Foreign-born: double (nullable = true)\n",
      " |-- State Code: string (nullable = true)\n",
      " |-- Race: string (nullable = true)\n",
      "\n"
     ]
    }
   ],
   "source": [
    "dem_data.printSchema()"
   ]
  },
  {
   "cell_type": "code",
   "execution_count": 26,
   "metadata": {
    "editable": true
   },
   "outputs": [
    {
     "name": "stdout",
     "output_type": "stream",
     "text": [
      "+--------+-----------+----------+---------------+-----------------+------------+----------+--------------------+\n",
      "|    City|      State|Median Age|Male Population|Female Population|Foreign-born|State Code|                Race|\n",
      "+--------+-----------+----------+---------------+-----------------+------------+----------+--------------------+\n",
      "|San Juan|Puerto Rico|      41.4|       155408.0|         186829.0|         NaN|        PR|  Hispanic or Latino|\n",
      "|  Caguas|Puerto Rico|      40.4|        34743.0|          42265.0|         NaN|        PR|  Hispanic or Latino|\n",
      "|Carolina|Puerto Rico|      42.0|        64758.0|          77308.0|         NaN|        PR|American Indian a...|\n",
      "|Carolina|Puerto Rico|      42.0|        64758.0|          77308.0|         NaN|        PR|  Hispanic or Latino|\n",
      "|San Juan|Puerto Rico|      41.4|       155408.0|         186829.0|         NaN|        PR|American Indian a...|\n",
      "|Mayagüez|Puerto Rico|      38.1|        30799.0|          35782.0|         NaN|        PR|               Asian|\n",
      "|   Ponce|Puerto Rico|      40.5|        56968.0|          64615.0|         NaN|        PR|  Hispanic or Latino|\n",
      "| Bayamón|Puerto Rico|      39.4|        80128.0|          90131.0|         NaN|        PR|  Hispanic or Latino|\n",
      "|San Juan|Puerto Rico|      41.4|       155408.0|         186829.0|         NaN|        PR|               Asian|\n",
      "|Guaynabo|Puerto Rico|      42.2|        33066.0|          37426.0|         NaN|        PR|  Hispanic or Latino|\n",
      "|  Caguas|Puerto Rico|      40.4|        34743.0|          42265.0|         NaN|        PR|American Indian a...|\n",
      "|Guaynabo|Puerto Rico|      42.2|        33066.0|          37426.0|         NaN|        PR|American Indian a...|\n",
      "|Mayagüez|Puerto Rico|      38.1|        30799.0|          35782.0|         NaN|        PR|  Hispanic or Latino|\n",
      "+--------+-----------+----------+---------------+-----------------+------------+----------+--------------------+\n",
      "\n"
     ]
    }
   ],
   "source": [
    "# Check for nulls in dem_data\n",
    "dem_data.filter(dem_data[\"Foreign-born\"]==\"NaN\").show()"
   ]
  },
  {
   "cell_type": "code",
   "execution_count": 27,
   "metadata": {
    "editable": true
   },
   "outputs": [],
   "source": [
    "# Filter out NaN in dem_data\n",
    "dem_data = dem_data.filter(dem_data[\"Foreign-born\"]!=\"NaN\")"
   ]
  },
  {
   "cell_type": "code",
   "execution_count": 28,
   "metadata": {
    "editable": true
   },
   "outputs": [
    {
     "name": "stdout",
     "output_type": "stream",
     "text": [
      "+----+-----+----------+---------------+-----------------+------------+----------+----+\n",
      "|City|State|Median Age|Male Population|Female Population|Foreign-born|State Code|Race|\n",
      "+----+-----+----------+---------------+-----------------+------------+----------+----+\n",
      "+----+-----+----------+---------------+-----------------+------------+----------+----+\n",
      "\n"
     ]
    }
   ],
   "source": [
    "# Sanity check\n",
    "dem_data.filter(dem_data[\"Foreign-born\"]==\"NaN\").show()"
   ]
  },
  {
   "cell_type": "code",
   "execution_count": 29,
   "metadata": {
    "editable": true
   },
   "outputs": [
    {
     "name": "stdout",
     "output_type": "stream",
     "text": [
      "root\n",
      " |-- City: string (nullable = true)\n",
      " |-- State: string (nullable = true)\n",
      " |-- Median Age: double (nullable = true)\n",
      " |-- Male Population: double (nullable = true)\n",
      " |-- Female Population: double (nullable = true)\n",
      " |-- Foreign-born: double (nullable = true)\n",
      " |-- State Code: string (nullable = true)\n",
      " |-- Race: string (nullable = true)\n",
      "\n"
     ]
    }
   ],
   "source": [
    "# Recheck\n",
    "dem_data.printSchema()"
   ]
  },
  {
   "cell_type": "code",
   "execution_count": 30,
   "metadata": {
    "editable": true
   },
   "outputs": [
    {
     "name": "stdout",
     "output_type": "stream",
     "text": [
      "+------------+-------+----------+---------------+-----------------+------------+----------+--------------------+\n",
      "|        City|  State|Median Age|Male Population|Female Population|Foreign-born|State Code|                Race|\n",
      "+------------+-------+----------+---------------+-----------------+------------+----------+--------------------+\n",
      "|The Villages|Florida|      70.5|            NaN|              NaN|      4034.0|        FL|  Hispanic or Latino|\n",
      "|The Villages|Florida|      70.5|            NaN|              NaN|      4034.0|        FL|Black or African-...|\n",
      "|The Villages|Florida|      70.5|            NaN|              NaN|      4034.0|        FL|               White|\n",
      "+------------+-------+----------+---------------+-----------------+------------+----------+--------------------+\n",
      "\n"
     ]
    }
   ],
   "source": [
    "dem_data.filter(dem_data[\"Male Population\"]==\"NaN\").show()"
   ]
  },
  {
   "cell_type": "code",
   "execution_count": 31,
   "metadata": {
    "editable": true
   },
   "outputs": [],
   "source": [
    "# Remove NaN values\n",
    "dem_data = dem_data.filter(dem_data[\"Male Population\"]!=\"NaN\")"
   ]
  },
  {
   "cell_type": "code",
   "execution_count": 32,
   "metadata": {
    "editable": true
   },
   "outputs": [
    {
     "name": "stdout",
     "output_type": "stream",
     "text": [
      "+----+-----+----------+---------------+-----------------+------------+----------+----+\n",
      "|City|State|Median Age|Male Population|Female Population|Foreign-born|State Code|Race|\n",
      "+----+-----+----------+---------------+-----------------+------------+----------+----+\n",
      "+----+-----+----------+---------------+-----------------+------------+----------+----+\n",
      "\n"
     ]
    }
   ],
   "source": [
    "# Confirm removal\n",
    "dem_data.filter(dem_data[\"Male Population\"]==\"NaN\").show()"
   ]
  },
  {
   "cell_type": "code",
   "execution_count": 33,
   "metadata": {
    "editable": true
   },
   "outputs": [
    {
     "name": "stdout",
     "output_type": "stream",
     "text": [
      "+----+-----+----------+---------------+-----------------+------------+----------+----+\n",
      "|City|State|Median Age|Male Population|Female Population|Foreign-born|State Code|Race|\n",
      "+----+-----+----------+---------------+-----------------+------------+----------+----+\n",
      "+----+-----+----------+---------------+-----------------+------------+----------+----+\n",
      "\n"
     ]
    }
   ],
   "source": [
    "# Check for NaN from Female Population\n",
    "dem_data.filter(dem_data[\"Female Population\"]==\"NaN\").show()"
   ]
  },
  {
   "cell_type": "code",
   "execution_count": 34,
   "metadata": {
    "editable": true
   },
   "outputs": [],
   "source": [
    "# Replace views\n",
    "imm_data.createOrReplaceTempView(\"imm_data\")\n",
    "dem_data.createOrReplaceTempView(\"dem_data\")"
   ]
  },
  {
   "cell_type": "code",
   "execution_count": 35,
   "metadata": {
    "editable": true
   },
   "outputs": [],
   "source": [
    "imm_dem_table = spark.sql(\"\"\"\n",
    "    SELECT d.City, d.State, d.`State Code`, i.`Travel Mode`,\n",
    "           i.Gender, d.`Foreign-born`, d.Race, i.`Visa Type`\n",
    "    FROM imm_data i\n",
    "    JOIN dem_data d ON d.`State Code` = i.`Dest State`\n",
    "\"\"\")"
   ]
  },
  {
   "cell_type": "code",
   "execution_count": 36,
   "metadata": {
    "editable": true
   },
   "outputs": [
    {
     "name": "stdout",
     "output_type": "stream",
     "text": [
      "root\n",
      " |-- City: string (nullable = true)\n",
      " |-- State: string (nullable = true)\n",
      " |-- State Code: string (nullable = true)\n",
      " |-- Travel Mode: double (nullable = true)\n",
      " |-- Gender: string (nullable = true)\n",
      " |-- Foreign-born: double (nullable = true)\n",
      " |-- Race: string (nullable = true)\n",
      " |-- Visa Type: string (nullable = true)\n",
      "\n"
     ]
    }
   ],
   "source": [
    "imm_dem_table.printSchema()"
   ]
  },
  {
   "cell_type": "code",
   "execution_count": 37,
   "metadata": {
    "editable": true
   },
   "outputs": [
    {
     "name": "stdout",
     "output_type": "stream",
     "text": [
      "+-------------+--------+----------+-----------+------+------------+------------------+---------+\n",
      "|         City|   State|State Code|Travel Mode|Gender|Foreign-born|              Race|Visa Type|\n",
      "+-------------+--------+----------+-----------+------+------------+------------------+---------+\n",
      "|Silver Spring|Maryland|        MD|        1.0|     M|     30908.0|Hispanic or Latino|       WB|\n",
      "|Silver Spring|Maryland|        MD|        1.0|     F|     30908.0|Hispanic or Latino|       WB|\n",
      "|Silver Spring|Maryland|        MD|        1.0|     M|     30908.0|Hispanic or Latino|       WB|\n",
      "|Silver Spring|Maryland|        MD|        1.0|     M|     30908.0|Hispanic or Latino|       WB|\n",
      "|Silver Spring|Maryland|        MD|        1.0|     M|     30908.0|Hispanic or Latino|       WB|\n",
      "|Silver Spring|Maryland|        MD|        1.0|     F|     30908.0|Hispanic or Latino|       WB|\n",
      "|Silver Spring|Maryland|        MD|        1.0|     F|     30908.0|Hispanic or Latino|       WB|\n",
      "|Silver Spring|Maryland|        MD|        1.0|  null|     30908.0|Hispanic or Latino|       WB|\n",
      "|Silver Spring|Maryland|        MD|        1.0|     M|     30908.0|Hispanic or Latino|       WB|\n",
      "|Silver Spring|Maryland|        MD|        1.0|     F|     30908.0|Hispanic or Latino|       WT|\n",
      "|Silver Spring|Maryland|        MD|        1.0|     F|     30908.0|Hispanic or Latino|       WB|\n",
      "|Silver Spring|Maryland|        MD|        1.0|     F|     30908.0|Hispanic or Latino|       WB|\n",
      "|Silver Spring|Maryland|        MD|        1.0|     M|     30908.0|Hispanic or Latino|       WB|\n",
      "|Silver Spring|Maryland|        MD|        1.0|     F|     30908.0|Hispanic or Latino|       WT|\n",
      "|Silver Spring|Maryland|        MD|        1.0|     M|     30908.0|Hispanic or Latino|       WT|\n",
      "|Silver Spring|Maryland|        MD|        1.0|     M|     30908.0|Hispanic or Latino|       WB|\n",
      "|Silver Spring|Maryland|        MD|        1.0|     F|     30908.0|Hispanic or Latino|       WB|\n",
      "|Silver Spring|Maryland|        MD|        1.0|  null|     30908.0|Hispanic or Latino|       WB|\n",
      "|Silver Spring|Maryland|        MD|        1.0|  null|     30908.0|Hispanic or Latino|       WB|\n",
      "|Silver Spring|Maryland|        MD|        1.0|  null|     30908.0|Hispanic or Latino|       WB|\n",
      "+-------------+--------+----------+-----------+------+------------+------------------+---------+\n",
      "only showing top 20 rows\n",
      "\n"
     ]
    }
   ],
   "source": [
    "# Sanity check: See what we're working with\n",
    "imm_dem_table.show()"
   ]
  },
  {
   "cell_type": "code",
   "execution_count": 38,
   "metadata": {
    "editable": true
   },
   "outputs": [
    {
     "name": "stdout",
     "output_type": "stream",
     "text": [
      "+-------------+--------+----------+-----------+------+------------+------------------+---------+\n",
      "|         City|   State|State Code|Travel Mode|Gender|Foreign-born|              Race|Visa Type|\n",
      "+-------------+--------+----------+-----------+------+------------+------------------+---------+\n",
      "|Silver Spring|Maryland|        MD|        1.0|  null|     30908.0|Hispanic or Latino|       WB|\n",
      "|Silver Spring|Maryland|        MD|        1.0|  null|     30908.0|Hispanic or Latino|       WB|\n",
      "|Silver Spring|Maryland|        MD|        1.0|  null|     30908.0|Hispanic or Latino|       WB|\n",
      "|Silver Spring|Maryland|        MD|        1.0|  null|     30908.0|Hispanic or Latino|       WB|\n",
      "|Silver Spring|Maryland|        MD|        1.0|  null|     30908.0|Hispanic or Latino|       WB|\n",
      "|Silver Spring|Maryland|        MD|        1.0|  null|     30908.0|Hispanic or Latino|       WB|\n",
      "|Silver Spring|Maryland|        MD|        1.0|  null|     30908.0|Hispanic or Latino|       WT|\n",
      "|Silver Spring|Maryland|        MD|        1.0|  null|     30908.0|Hispanic or Latino|       WT|\n",
      "|Silver Spring|Maryland|        MD|        1.0|  null|     30908.0|Hispanic or Latino|       WB|\n",
      "|Silver Spring|Maryland|        MD|        1.0|  null|     30908.0|Hispanic or Latino|       WB|\n",
      "|Silver Spring|Maryland|        MD|        1.0|  null|     30908.0|Hispanic or Latino|       WB|\n",
      "|Silver Spring|Maryland|        MD|        1.0|  null|     30908.0|Hispanic or Latino|       WB|\n",
      "|Silver Spring|Maryland|        MD|        1.0|  null|     30908.0|Hispanic or Latino|       WB|\n",
      "|Silver Spring|Maryland|        MD|        1.0|  null|     30908.0|Hispanic or Latino|       WB|\n",
      "|Silver Spring|Maryland|        MD|        1.0|  null|     30908.0|Hispanic or Latino|       WB|\n",
      "|Silver Spring|Maryland|        MD|        1.0|  null|     30908.0|Hispanic or Latino|       WB|\n",
      "|Silver Spring|Maryland|        MD|        1.0|  null|     30908.0|Hispanic or Latino|       WB|\n",
      "|Silver Spring|Maryland|        MD|        1.0|  null|     30908.0|Hispanic or Latino|       WB|\n",
      "|Silver Spring|Maryland|        MD|        1.0|  null|     30908.0|Hispanic or Latino|       WB|\n",
      "|Silver Spring|Maryland|        MD|        1.0|  null|     30908.0|Hispanic or Latino|       WB|\n",
      "+-------------+--------+----------+-----------+------+------------+------------------+---------+\n",
      "only showing top 20 rows\n",
      "\n"
     ]
    }
   ],
   "source": [
    "# Filter out null values\n",
    "imm_dem_table.filter(\"Gender is null\").show()"
   ]
  },
  {
   "cell_type": "code",
   "execution_count": 39,
   "metadata": {
    "editable": true
   },
   "outputs": [],
   "source": [
    "# Drop these null values\n",
    "imm_dem_table = imm_dem_table.filter(imm_dem_table.Gender.isNotNull())"
   ]
  },
  {
   "cell_type": "code",
   "execution_count": 40,
   "metadata": {
    "editable": true
   },
   "outputs": [
    {
     "name": "stdout",
     "output_type": "stream",
     "text": [
      "+----+-----+----------+-----------+------+------------+----+---------+\n",
      "|City|State|State Code|Travel Mode|Gender|Foreign-born|Race|Visa Type|\n",
      "+----+-----+----------+-----------+------+------------+----+---------+\n",
      "+----+-----+----------+-----------+------+------------+----+---------+\n",
      "\n"
     ]
    }
   ],
   "source": [
    "# Sanity check\n",
    "imm_dem_table.filter(\"Gender is null\").show()"
   ]
  },
  {
   "cell_type": "code",
   "execution_count": 41,
   "metadata": {
    "editable": true
   },
   "outputs": [
    {
     "name": "stdout",
     "output_type": "stream",
     "text": [
      "+----+-----+----------+-----------+------+------------+----+---------+\n",
      "|City|State|State Code|Travel Mode|Gender|Foreign-born|Race|Visa Type|\n",
      "+----+-----+----------+-----------+------+------------+----+---------+\n",
      "+----+-----+----------+-----------+------+------------+----+---------+\n",
      "\n"
     ]
    }
   ],
   "source": [
    "# Find more null values\n",
    "imm_dem_table.filter(imm_dem_table[\"Foreign-born\"]==\"NaN\").show()"
   ]
  },
  {
   "cell_type": "code",
   "execution_count": 42,
   "metadata": {
    "editable": true
   },
   "outputs": [],
   "source": [
    "# Create temp view\n",
    "imm_dem_table.createOrReplaceTempView(\"imm_dem_table\")"
   ]
  },
  {
   "cell_type": "code",
   "execution_count": 43,
   "metadata": {
    "editable": true
   },
   "outputs": [
    {
     "name": "stdout",
     "output_type": "stream",
     "text": [
      "+------+------------+----------+-------+--------------------+---------+\n",
      "|Gender|Foreign-born|      City|  State|                Race|Visa Type|\n",
      "+------+------------+----------+-------+--------------------+---------+\n",
      "|     F|      4706.0|Tuscaloosa|Alabama|Black or African-...|       WB|\n",
      "|     F|     12691.0|Huntsville|Alabama|Black or African-...|        I|\n",
      "|     X|      9337.0|Montgomery|Alabama|               Asian|       F1|\n",
      "|     F|      8258.0|Birmingham|Alabama|Black or African-...|       WT|\n",
      "|     M|      8258.0|Birmingham|Alabama|American Indian a...|        I|\n",
      "|     M|      9337.0|Montgomery|Alabama|American Indian a...|       WB|\n",
      "|     M|      9337.0|Montgomery|Alabama|American Indian a...|        I|\n",
      "|     F|      4706.0|Tuscaloosa|Alabama|               White|       F1|\n",
      "|     M|      8258.0|Birmingham|Alabama|               White|       F1|\n",
      "|     M|      8229.0|    Hoover|Alabama|Black or African-...|       B1|\n",
      "|     F|      7234.0|    Mobile|Alabama|American Indian a...|       E2|\n",
      "|     M|      8258.0|Birmingham|Alabama|Black or African-...|       B1|\n",
      "|     F|      8258.0|Birmingham|Alabama|Black or African-...|       E1|\n",
      "|     M|      1699.0|    Dothan|Alabama|Black or African-...|       F1|\n",
      "|     M|      4706.0|Tuscaloosa|Alabama|Black or African-...|       WT|\n",
      "|     M|      8229.0|    Hoover|Alabama|Black or African-...|        I|\n",
      "|     F|      9337.0|Montgomery|Alabama|               Asian|       B2|\n",
      "|     M|      9337.0|Montgomery|Alabama|               White|       WT|\n",
      "|     X|     12691.0|Huntsville|Alabama|               White|       F1|\n",
      "|     F|     12691.0|Huntsville|Alabama|Black or African-...|       WT|\n",
      "+------+------------+----------+-------+--------------------+---------+\n",
      "only showing top 20 rows\n",
      "\n"
     ]
    }
   ],
   "source": [
    "# Test query: Return Gender and Foreign born, order by State\n",
    "spark.sql(\"\"\"\n",
    "    SELECT DISTINCT Gender, `Foreign-born`, City, State, Race, `Visa Type`\n",
    "    FROM imm_dem_table\n",
    "    ORDER BY State\n",
    "\"\"\").show()"
   ]
  },
  {
   "cell_type": "code",
   "execution_count": 44,
   "metadata": {
    "editable": true
   },
   "outputs": [
    {
     "name": "stdout",
     "output_type": "stream",
     "text": [
      "+-------------+----------+------------+--------------------+---------+\n",
      "|         City|     State|Foreign-born|                Race|Visa Type|\n",
      "+-------------+----------+------------+--------------------+---------+\n",
      "|     O'Fallon|  Missouri|      3269.0|  Hispanic or Latino|       B1|\n",
      "|  Santa Clara|California|     52281.0|               White|       F1|\n",
      "|    Frederick|  Maryland|     14211.0|               White|       E1|\n",
      "|     Lakewood|  Colorado|     14169.0|  Hispanic or Latino|       F2|\n",
      "|        Omaha|  Nebraska|     48263.0|Black or African-...|       E2|\n",
      "|      Killeen|     Texas|     15769.0|American Indian a...|       F1|\n",
      "|         Waco|     Texas|     14235.0|Black or African-...|       WT|\n",
      "|      Garland|     Texas|     62975.0|               Asian|       F1|\n",
      "|  Bloomington|  Illinois|      7287.0|               Asian|       E2|\n",
      "|Wichita Falls|     Texas|      9855.0|American Indian a...|      SBP|\n",
      "+-------------+----------+------------+--------------------+---------+\n",
      "\n"
     ]
    }
   ],
   "source": [
    "# View Foreign-born, by city, and with visa type, and race\n",
    "spark.sql(\"\"\"\n",
    "    SELECT City, State,`Foreign-born`, Race, `Visa Type`\n",
    "    FROM imm_dem_table\n",
    "    GROUP BY 1, 2, 3, 4, 5\n",
    "    LIMIT 10\n",
    "\"\"\").show()"
   ]
  },
  {
   "cell_type": "code",
   "execution_count": 45,
   "metadata": {
    "editable": true
   },
   "outputs": [
    {
     "name": "stdout",
     "output_type": "stream",
     "text": [
      "root\n",
      " |-- City: string (nullable = true)\n",
      " |-- State: string (nullable = true)\n",
      " |-- State Code: string (nullable = true)\n",
      " |-- Travel Mode: double (nullable = true)\n",
      " |-- Gender: string (nullable = true)\n",
      " |-- Foreign-born: double (nullable = true)\n",
      " |-- Race: string (nullable = true)\n",
      " |-- Visa Type: string (nullable = true)\n",
      "\n"
     ]
    }
   ],
   "source": [
    "# Check new schema\n",
    "imm_dem_table.printSchema()"
   ]
  },
  {
   "cell_type": "code",
   "execution_count": 46,
   "metadata": {
    "editable": true
   },
   "outputs": [
    {
     "name": "stdout",
     "output_type": "stream",
     "text": [
      "+-------+-----+----------+-----------+------+------------+--------------------+---------+\n",
      "|   City|State|State Code|Travel Mode|Gender|Foreign-born|                Race|Visa Type|\n",
      "+-------+-----+----------+-----------+------+------------+--------------------+---------+\n",
      "|Abilene|Texas|        TX|        1.0|     M|      8129.0|American Indian a...|       WB|\n",
      "|Abilene|Texas|        TX|        1.0|     F|      8129.0|American Indian a...|       WT|\n",
      "|Abilene|Texas|        TX|        1.0|     M|      8129.0|American Indian a...|       WT|\n",
      "|Abilene|Texas|        TX|        1.0|     M|      8129.0|American Indian a...|       WT|\n",
      "|Abilene|Texas|        TX|        1.0|     F|      8129.0|American Indian a...|       WT|\n",
      "+-------+-----+----------+-----------+------+------------+--------------------+---------+\n",
      "\n"
     ]
    }
   ],
   "source": [
    "# Get an idea of the data we have\n",
    "spark.sql(\"\"\"\n",
    "    SELECT *\n",
    "    FROM imm_dem_table\n",
    "    ORDER BY City\n",
    "    LIMIT 5\n",
    "\"\"\").show()"
   ]
  },
  {
   "cell_type": "code",
   "execution_count": 47,
   "metadata": {
    "editable": true
   },
   "outputs": [
    {
     "name": "stdout",
     "output_type": "stream",
     "text": [
      "+----------------+--------------------+------+\n",
      "|            City|                Race| count|\n",
      "+----------------+--------------------+------+\n",
      "|    Jacksonville|  Hispanic or Latino|556235|\n",
      "|    Jacksonville|               Asian|556235|\n",
      "|    Jacksonville|American Indian a...|556235|\n",
      "|    Jacksonville|Black or African-...|556235|\n",
      "|    Jacksonville|               White|556235|\n",
      "| West Palm Beach|               White|535516|\n",
      "|        Palm Bay|Black or African-...|535516|\n",
      "| Fort Lauderdale|               Asian|535516|\n",
      "|           Davie|  Hispanic or Latino|535516|\n",
      "|Saint Petersburg|  Hispanic or Latino|535516|\n",
      "|       Riverview|               White|535516|\n",
      "|     Spring Hill|American Indian a...|535516|\n",
      "|       Homestead|Black or African-...|535516|\n",
      "|Saint Petersburg|Black or African-...|535516|\n",
      "|      Palm Coast|Black or African-...|535516|\n",
      "|       Melbourne|American Indian a...|535516|\n",
      "|       Poinciana|               Asian|535516|\n",
      "|      Cape Coral|American Indian a...|535516|\n",
      "|   Coral Springs|               White|535516|\n",
      "|   Boynton Beach|               White|535516|\n",
      "+----------------+--------------------+------+\n",
      "only showing top 20 rows\n",
      "\n"
     ]
    }
   ],
   "source": [
    "# Find duplicate data\n",
    "imm_dem_table.groupBy(\"City\", \"Race\").count().sort(desc(\"count\")).show()"
   ]
  },
  {
   "cell_type": "code",
   "execution_count": 48,
   "metadata": {
    "editable": true
   },
   "outputs": [],
   "source": [
    "imm_dem_table = imm_dem_table.dropDuplicates()"
   ]
  },
  {
   "cell_type": "code",
   "execution_count": 49,
   "metadata": {
    "editable": true
   },
   "outputs": [
    {
     "name": "stdout",
     "output_type": "stream",
     "text": [
      "+-----------+--------------------+-----+\n",
      "|       City|                Race|count|\n",
      "+-----------+--------------------+-----+\n",
      "|   Pasadena|  Hispanic or Latino|  186|\n",
      "|   Pasadena|               White|  186|\n",
      "|   Pasadena|Black or African-...|  186|\n",
      "|   Pasadena|               Asian|  186|\n",
      "|   Pasadena|American Indian a...|  186|\n",
      "| Union City|               Asian|  161|\n",
      "| Union City|Black or African-...|  161|\n",
      "| Union City|               White|  161|\n",
      "| Union City|American Indian a...|  161|\n",
      "| Union City|  Hispanic or Latino|  161|\n",
      "|   Glendale|               Asian|  156|\n",
      "|   Glendale|Black or African-...|  156|\n",
      "|   Glendale|               White|  156|\n",
      "|   Glendale|  Hispanic or Latino|  156|\n",
      "|   Glendale|American Indian a...|  156|\n",
      "|Springfield|               White|  151|\n",
      "|Springfield|               Asian|  151|\n",
      "|Springfield|American Indian a...|  151|\n",
      "|Springfield|Black or African-...|  151|\n",
      "|Springfield|  Hispanic or Latino|  151|\n",
      "+-----------+--------------------+-----+\n",
      "only showing top 20 rows\n",
      "\n"
     ]
    }
   ],
   "source": [
    "# Recheck (should be 186 or less for each row)\n",
    "imm_dem_table.groupBy(\"City\", \"Race\").count().sort(desc(\"count\")).show()"
   ]
  },
  {
   "cell_type": "code",
   "execution_count": 50,
   "metadata": {
    "editable": true
   },
   "outputs": [
    {
     "name": "stdout",
     "output_type": "stream",
     "text": [
      "+---------+\n",
      "| count(1)|\n",
      "+---------+\n",
      "|496121831|\n",
      "+---------+\n",
      "\n"
     ]
    }
   ],
   "source": [
    "# Ultimate check: Count new rows\n",
    "spark.sql(\"\"\"\n",
    "    SELECT COUNT(*)\n",
    "    FROM imm_dem_table\n",
    "\"\"\").show()"
   ]
  },
  {
   "cell_type": "markdown",
   "metadata": {
    "editable": true
   },
   "source": [
    "### Step 3: Define the Data Model\n",
    "#### 3.1 Conceptual Data Model\n",
    "Map out the conceptual data model and explain why you chose that model"
   ]
  },
  {
   "cell_type": "code",
   "execution_count": 52,
   "metadata": {
    "editable": true
   },
   "outputs": [
    {
     "name": "stdout",
     "output_type": "stream",
     "text": [
      "+----------+-------+----------+--------------------+\n",
      "|      City|  State|State Code|                Race|\n",
      "+----------+-------+----------+--------------------+\n",
      "|    Hoover|Alabama|        AL|Black or African-...|\n",
      "|Tuscaloosa|Alabama|        AL|American Indian a...|\n",
      "|Tuscaloosa|Alabama|        AL|  Hispanic or Latino|\n",
      "|    Dothan|Alabama|        AL|American Indian a...|\n",
      "|    Mobile|Alabama|        AL|Black or African-...|\n",
      "|Birmingham|Alabama|        AL|Black or African-...|\n",
      "|Birmingham|Alabama|        AL|               White|\n",
      "|    Hoover|Alabama|        AL|  Hispanic or Latino|\n",
      "|Huntsville|Alabama|        AL|Black or African-...|\n",
      "|Montgomery|Alabama|        AL|Black or African-...|\n",
      "|    Mobile|Alabama|        AL|               Asian|\n",
      "|Huntsville|Alabama|        AL|American Indian a...|\n",
      "|Montgomery|Alabama|        AL|               Asian|\n",
      "|    Mobile|Alabama|        AL|               White|\n",
      "|Tuscaloosa|Alabama|        AL|               White|\n",
      "|    Dothan|Alabama|        AL|               White|\n",
      "|Huntsville|Alabama|        AL|               Asian|\n",
      "|    Dothan|Alabama|        AL|  Hispanic or Latino|\n",
      "|Birmingham|Alabama|        AL|American Indian a...|\n",
      "|Tuscaloosa|Alabama|        AL|Black or African-...|\n",
      "+----------+-------+----------+--------------------+\n",
      "only showing top 20 rows\n",
      "\n"
     ]
    }
   ],
   "source": [
    "# Map out City table\n",
    "spark.sql(\"\"\"\n",
    "    SELECT DISTINCT City, State, `State Code`, Race\n",
    "    FROM dem_data\n",
    "    ORDER BY State\n",
    "\"\"\").show()"
   ]
  },
  {
   "cell_type": "code",
   "execution_count": 53,
   "metadata": {
    "editable": true
   },
   "outputs": [
    {
     "name": "stdout",
     "output_type": "stream",
     "text": [
      "+----------+-----------+----------+---------+\n",
      "|Entry Port|Travel Mode|Dest State|Visa Type|\n",
      "+----------+-----------+----------+---------+\n",
      "|       5KE|          2|        AK|       B2|\n",
      "|       5T6|          1|        NM|       B2|\n",
      "|       5T6|          1|        TX|       B2|\n",
      "|       ABG|          3|        VT|       B2|\n",
      "|       ABG|          3|        VT|       WT|\n",
      "|       ABG|          1|        GU|      GMT|\n",
      "|       ABG|          3|        MA|       WT|\n",
      "|       ABQ|          1|        NM|       M1|\n",
      "|       ABQ|          1|        NM|       F1|\n",
      "|       ABS|          3|        MA|       WB|\n",
      "|       ABS|          3|        CT|       B2|\n",
      "|       ABS|          3|        VT|       WT|\n",
      "|       ADS|          1|        TX|       B2|\n",
      "|       ADS|          1|        TX|       B1|\n",
      "|       ADT|          3|        TX|       B2|\n",
      "|       ADW|          1|        MD|        I|\n",
      "|       AGA|          1|        GQ|       WB|\n",
      "|       AGA|          1|        AN|       B2|\n",
      "|       AGA|          1|        FL|      GMT|\n",
      "|       AGA|          1|        OK|      GMT|\n",
      "+----------+-----------+----------+---------+\n",
      "only showing top 20 rows\n",
      "\n"
     ]
    }
   ],
   "source": [
    "# Map Entry Port table\n",
    "spark.sql(\"\"\"\n",
    "    SELECT DISTINCT `Entry Port`, CAST(`Travel Mode` AS INT), `Dest State`, `Visa Type`\n",
    "    FROM imm_data\n",
    "    WHERE `Dest State` != \"null\"\n",
    "    ORDER BY 1\n",
    "\"\"\").show()"
   ]
  },
  {
   "cell_type": "code",
   "execution_count": 57,
   "metadata": {
    "editable": true
   },
   "outputs": [
    {
     "name": "stdout",
     "output_type": "stream",
     "text": [
      "+--------------------+--------------+-------------+----------------+\n",
      "|               State|Male Pop Total|Fem Pop Total|Foreign-born Tot|\n",
      "+--------------------+--------------+-------------+----------------+\n",
      "|             Alabama|       2448200|      2715106|          252541|\n",
      "|              Alaska|        764725|       728750|          166290|\n",
      "|             Arizona|      11137275|     11360435|         3411565|\n",
      "|            Arkansas|       1400724|      1482165|          307753|\n",
      "|          California|      61055672|     62388681|        37059662|\n",
      "|            Colorado|       7273095|      7405250|         1688155|\n",
      "|         Connecticut|       2123435|      2231661|         1114250|\n",
      "|            Delaware|        163400|       196385|           16680|\n",
      "|District of Columbia|       1598525|      1762615|          475585|\n",
      "|             Florida|      15461937|     16626425|         7833464|\n",
      "|             Georgia|       4101605|      4453555|          738925|\n",
      "|              Hawaii|        884035|       879795|          506560|\n",
      "|               Idaho|        995515|       998900|          140630|\n",
      "|            Illinois|      10943864|     11570526|         4632600|\n",
      "|             Indiana|       4399882|      4697912|          713623|\n",
      "|                Iowa|       1772066|      1831937|          309829|\n",
      "|              Kansas|       2820725|      2920645|          593225|\n",
      "|            Kentucky|       2262415|      2386970|          332440|\n",
      "|           Louisiana|       3134990|      3367985|          417095|\n",
      "|               Maine|        157400|       176960|           46145|\n",
      "+--------------------+--------------+-------------+----------------+\n",
      "only showing top 20 rows\n",
      "\n"
     ]
    }
   ],
   "source": [
    "# Map State table\n",
    "spark.sql(\"\"\"\n",
    "        SELECT DISTINCT State, CAST(SUM(`Male Population`) AS INT) AS `Male Pop Total`,\n",
    "               CAST(SUM(`Female Population`) AS INT) AS `Fem Pop Total`,\n",
    "               CAST(SUM(`Foreign-born`) AS INT) AS `Foreign-born Tot`\n",
    "        FROM dem_data\n",
    "        GROUP BY 1\n",
    "        ORDER BY State, `Foreign-born tot` DESC\n",
    "\"\"\").show()"
   ]
  },
  {
   "cell_type": "markdown",
   "metadata": {
    "editable": true
   },
   "source": [
    "#### 3.2 Mapping Out Data Pipelines\n",
    "List the steps necessary to pipeline the data into the chosen data model"
   ]
  },
  {
   "cell_type": "markdown",
   "metadata": {
    "editable": true
   },
   "source": [
    "### Step 4: Run Pipelines to Model the Data \n",
    "#### 4.1 Create the data model\n",
    "Build the data pipelines to create the data model."
   ]
  },
  {
   "cell_type": "code",
   "execution_count": null,
   "metadata": {
    "editable": true
   },
   "outputs": [],
   "source": [
    "# Write code here"
   ]
  },
  {
   "cell_type": "markdown",
   "metadata": {
    "editable": true
   },
   "source": [
    "#### 4.2 Data Quality Checks\n",
    "Explain the data quality checks you'll perform to ensure the pipeline ran as expected. These could include:\n",
    " * Integrity constraints on the relational database (e.g., unique key, data type, etc.)\n",
    " * Unit tests for the scripts to ensure they are doing the right thing\n",
    " * Source/Count checks to ensure completeness\n",
    " \n",
    "Run Quality Checks"
   ]
  },
  {
   "cell_type": "code",
   "execution_count": null,
   "metadata": {
    "editable": true
   },
   "outputs": [],
   "source": [
    "# Perform quality checks here"
   ]
  },
  {
   "cell_type": "markdown",
   "metadata": {
    "editable": true
   },
   "source": [
    "#### 4.3 Data dictionary \n",
    "Create a data dictionary for your data model. For each field, provide a brief description of what the data is and where it came from. You can include the data dictionary in the notebook or in a separate file."
   ]
  },
  {
   "cell_type": "markdown",
   "metadata": {
    "editable": true
   },
   "source": [
    "#### Step 5: Complete Project Write Up\n",
    "* Clearly state the rationale for the choice of tools and technologies for the project.\n",
    "* Propose how often the data should be updated and why.\n",
    "* Write a description of how you would approach the problem differently under the following scenarios:\n",
    " * The data was increased by 100x.\n",
    " * The data populates a dashboard that must be updated on a daily basis by 7am every day.\n",
    " * The database needed to be accessed by 100+ people."
   ]
  },
  {
   "cell_type": "code",
   "execution_count": null,
   "metadata": {
    "editable": true
   },
   "outputs": [],
   "source": []
  },
  {
   "cell_type": "code",
   "execution_count": null,
   "metadata": {
    "editable": true
   },
   "outputs": [],
   "source": []
  },
  {
   "cell_type": "code",
   "execution_count": null,
   "metadata": {
    "editable": true
   },
   "outputs": [],
   "source": []
  },
  {
   "cell_type": "code",
   "execution_count": null,
   "metadata": {
    "editable": true
   },
   "outputs": [],
   "source": []
  },
  {
   "cell_type": "code",
   "execution_count": null,
   "metadata": {
    "editable": true
   },
   "outputs": [],
   "source": []
  },
  {
   "cell_type": "code",
   "execution_count": null,
   "metadata": {
    "editable": true
   },
   "outputs": [],
   "source": []
  }
 ],
 "metadata": {
  "kernelspec": {
   "display_name": "Python 3",
   "language": "python",
   "name": "python3"
  },
  "language_info": {
   "codemirror_mode": {
    "name": "ipython",
    "version": 3
   },
   "file_extension": ".py",
   "mimetype": "text/x-python",
   "name": "python",
   "nbconvert_exporter": "python",
   "pygments_lexer": "ipython3",
   "version": "3.6.3"
  }
 },
 "nbformat": 4,
 "nbformat_minor": 4
}
